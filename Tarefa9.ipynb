{
  "nbformat": 4,
  "nbformat_minor": 0,
  "metadata": {
    "colab": {
      "provenance": [],
      "authorship_tag": "ABX9TyN2Ym7xJwoyEGCXC583S2O8",
      "include_colab_link": true
    },
    "kernelspec": {
      "name": "python3",
      "display_name": "Python 3"
    },
    "language_info": {
      "name": "python"
    }
  },
  "cells": [
    {
      "cell_type": "markdown",
      "metadata": {
        "id": "view-in-github",
        "colab_type": "text"
      },
      "source": [
        "<a href=\"https://colab.research.google.com/github/tombraganca/distributed-computing/blob/main/Tarefa9.ipynb\" target=\"_parent\"><img src=\"https://colab.research.google.com/assets/colab-badge.svg\" alt=\"Open In Colab\"/></a>"
      ]
    },
    {
      "cell_type": "code",
      "source": [
        "!pip install asyncio"
      ],
      "metadata": {
        "colab": {
          "base_uri": "https://localhost:8080/"
        },
        "id": "C7WwDUvX4Hsd",
        "outputId": "525c9f8a-5fac-43d4-b2d9-2f3f547f5783"
      },
      "execution_count": null,
      "outputs": [
        {
          "output_type": "stream",
          "name": "stdout",
          "text": [
            "Requirement already satisfied: asyncio in /usr/local/lib/python3.10/dist-packages (3.4.3)\n"
          ]
        }
      ]
    },
    {
      "cell_type": "code",
      "execution_count": null,
      "metadata": {
        "colab": {
          "base_uri": "https://localhost:8080/"
        },
        "id": "u8-L8Cpn4GeM",
        "outputId": "f73f2ba3-c5bc-4468-913c-21d9748f3797"
      },
      "outputs": [
        {
          "output_type": "stream",
          "name": "stdout",
          "text": [
            "Processo 0 enviou solicitação para processo 1\n",
            "Processo 1 recebeu solicitação de processo 0\n",
            "Processo 0 enviou solicitação para processo 2\n",
            "Processo 2 recebeu solicitação de processo 0\n",
            "Processo 0 está na seção crítica\n",
            "Processo 1 enviou solicitação para processo 0\n",
            "Processo 0 recebeu solicitação de processo 1\n",
            "Processo 1 enviou solicitação para processo 2\n",
            "Processo 2 recebeu solicitação de processo 1\n",
            "Processo 1 está na seção crítica\n",
            "Processo 2 enviou solicitação para processo 0\n",
            "Processo 0 recebeu solicitação de processo 2\n",
            "Processo 2 enviou solicitação para processo 1\n",
            "Processo 1 recebeu solicitação de processo 2\n",
            "Processo 2 está na seção crítica\n"
          ]
        }
      ],
      "source": [
        "import asyncio\n",
        "\n",
        "class LamportMutex:\n",
        "    def __init__(self, num_processes):\n",
        "        self._num_processes = num_processes\n",
        "        self._lamport_clocks = [0] * num_processes\n",
        "        self._is_waiting = [False] * num_processes\n",
        "        self._completers = [asyncio.Future() for _ in range(num_processes)]\n",
        "\n",
        "    async def lock(self, process_id):\n",
        "        self._is_waiting[process_id] = True\n",
        "        self._lamport_clocks[process_id] = self._get_max_clock_value() + 1\n",
        "        self._is_waiting[process_id] = False\n",
        "\n",
        "        for i in range(self._num_processes):\n",
        "            if i != process_id:\n",
        "                await self._send_request(process_id, i)\n",
        "                await self._receive_reply(i, process_id)\n",
        "\n",
        "    def unlock(self, process_id):\n",
        "        self._lamport_clocks[process_id] += 1\n",
        "        if not self._completers[process_id].done():\n",
        "            self._completers[process_id].set_result(None)\n",
        "\n",
        "    async def _send_request(self, sender, receiver):\n",
        "        await asyncio.sleep(0.1)  # Simulando o envio de uma solicitação\n",
        "        print(f'Processo {sender} enviou solicitação para processo {receiver}')\n",
        "\n",
        "    async def _receive_reply(self, receiver, sender):\n",
        "        await asyncio.sleep(0.1)  # Simulando a recepção de uma resposta\n",
        "        print(f'Processo {receiver} recebeu solicitação de processo {sender}')\n",
        "        if not self._completers[receiver].done():\n",
        "            self._completers[receiver].set_result(None)\n",
        "\n",
        "    def _get_max_clock_value(self):\n",
        "        return max(self._lamport_clocks)\n",
        "\n",
        "async def main():\n",
        "    num_processes = 3\n",
        "    mutex = LamportMutex(num_processes)\n",
        "\n",
        "    for i in range(num_processes):\n",
        "        await mutex.lock(i)\n",
        "        print(f'Processo {i} está na seção crítica')\n",
        "        mutex.unlock(i)\n",
        "\n",
        "# Executando o exemplo\n",
        "await main()"
      ]
    }
  ]
}